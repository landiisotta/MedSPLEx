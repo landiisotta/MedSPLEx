{
 "cells": [
  {
   "metadata": {
    "ExecuteTime": {
     "end_time": "2025-03-26T22:43:56.982433Z",
     "start_time": "2025-03-26T22:43:56.057055Z"
    }
   },
   "cell_type": "code",
   "source": "from medsplex.config import update_config_from_annotations",
   "id": "9bb1b3cdb438c776",
   "outputs": [],
   "execution_count": 3
  },
  {
   "metadata": {
    "ExecuteTime": {
     "end_time": "2025-03-26T22:50:14.728683Z",
     "start_time": "2025-03-26T22:50:14.690433Z"
    }
   },
   "cell_type": "code",
   "source": [
    "# update config valence via annotated data\n",
    "new_config = update_config_from_annotations(ann_path = '../data/train-val-deid-dataset-unique.csv',\n",
    "                               config_path = '../config/keywords.yaml',\n",
    "                               keyword_column = 'pattern', save=True,\n",
    "                                            new_config_path = '../config/keywords-train-val-update.yaml')"
   ],
   "id": "a7cea386a099a367",
   "outputs": [
    {
     "name": "stdout",
     "output_type": "stream",
     "text": [
      "saving new config to ../config/keywords-train-val-update.yaml\n"
     ]
    }
   ],
   "execution_count": 6
  },
  {
   "metadata": {},
   "cell_type": "code",
   "outputs": [],
   "execution_count": null,
   "source": "",
   "id": "1833d2b95910771a"
  }
 ],
 "metadata": {
  "kernelspec": {
   "display_name": "Python 3",
   "language": "python",
   "name": "python3"
  },
  "language_info": {
   "codemirror_mode": {
    "name": "ipython",
    "version": 2
   },
   "file_extension": ".py",
   "mimetype": "text/x-python",
   "name": "python",
   "nbconvert_exporter": "python",
   "pygments_lexer": "ipython2",
   "version": "2.7.6"
  }
 },
 "nbformat": 4,
 "nbformat_minor": 5
}
